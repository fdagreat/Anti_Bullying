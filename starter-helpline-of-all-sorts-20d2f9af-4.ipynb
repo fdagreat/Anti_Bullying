{
 "cells": [
  {
   "cell_type": "markdown",
   "metadata": {},
   "source": [
    "<b>Project - Helpline of all sorts</b><br><br>\n",
    "Implimenting LSTM model to predict what the concern is about:<br>\n",
    "0 - work life harassment and stress<br>\n",
    "1 - school bullying related complaints<br>\n",
    "2 - sexual harassment related complaints<br>\n",
    "3 - whistleblowing<br>"
   ]
  },
  {
   "cell_type": "code",
   "execution_count": 1,
   "metadata": {},
   "outputs": [],
   "source": [
    "import numpy\n",
    "\n",
    "numpy.random.seed(0)\n",
    "from keras.models import Model\n",
    "from keras.layers import Dense, Input, Dropout, LSTM, Activation\n",
    "from keras.layers.embeddings import Embedding\n",
    "from keras.preprocessing import sequence\n",
    "from keras.initializers import glorot_uniform\n",
    "numpy.random.seed(1)"
   ]
  },
  {
   "cell_type": "markdown",
   "metadata": {},
   "source": [
    "<br><br><b>Converting input sentences into vector word representation, leveraged pre-trained 100-D GloVe embedding.</b>"
   ]
  },
  {
   "cell_type": "code",
   "execution_count": 6,
   "metadata": {},
   "outputs": [
    {
     "name": "stdout",
     "output_type": "stream",
     "text": [
      "Found 400000 word vectors.\n",
      "sample embedding of word 'bangalore' is [-0.99448  -0.077857  0.7501    0.1678    0.27551   0.020159 -0.50652\n",
      "  0.8895   -0.87816   1.0889   -0.067507 -0.49307   0.32534   0.50727\n",
      "  0.15708  -0.71007   0.3012    0.92905  -0.26814   0.59854   0.19417\n",
      " -0.51151   0.32488   0.40267  -0.14587   0.071352  0.64874   0.13758\n",
      "  0.007469 -0.18785  -0.76551   0.30816   0.36882  -0.41252  -0.2235\n",
      " -0.29064  -0.92269   0.39056  -0.35599   0.070162  0.033666  0.32743\n",
      " -0.14269  -0.65097   0.31394  -0.044538  0.95459   0.39427   0.40993\n",
      "  1.2348   -0.85968  -0.072344  1.0908   -0.1989   -0.40554  -0.56707\n",
      " -1.2005    0.20608   0.28379  -0.44239  -0.57755  -0.28433  -0.42684\n",
      "  0.77296  -0.82195   0.83016  -0.36525  -0.18728   0.42421   0.73417\n",
      " -0.21351   0.2617   -0.091433 -1.0071   -0.81744  -0.31586   0.75839\n",
      " -0.061132 -0.74389  -0.053195  0.21087  -0.26775  -0.40766   0.67072\n",
      " -0.78855   0.074657 -0.32326  -0.034044 -0.50166   0.54098   0.51638\n",
      " -0.063815  0.19218  -0.38644   0.016621  0.93717   0.38972   0.20654\n",
      "  0.69936   0.58348 ]\n",
      "the index of cucumber in the vocabulary is 29794\n",
      "the 50001th word in the vocabulary is bec\n"
     ]
    }
   ],
   "source": [
    "import os\n",
    "data_dir = 'glove.6B.100d.txt'\n",
    "\n",
    "embeddings_index = {}\n",
    "word_to_index = {}\n",
    "index_to_word = {}\n",
    "# f = open(os.path.join(data_dir, 'glove.6B.100d.txt'))\n",
    "f = open(data_dir, encoding=\"utf8\")\n",
    "i = 0\n",
    "for line in f:\n",
    "    values = line.split()\n",
    "    word = values[0]\n",
    "    word_to_index[word] = i\n",
    "    index_to_word[i] = word\n",
    "    embedding = numpy.asarray(values[1:], dtype='float32')\n",
    "    embeddings_index[word] = embedding\n",
    "    i+=1\n",
    "f.close()\n",
    "\n",
    "# for testing purpose to make sure we are getting correct word vectors\n",
    "print('Found %s word vectors.' % len(embeddings_index))\n",
    "print(\"sample embedding of word 'bangalore' is\", embeddings_index['bangalore'])\n",
    "word = \"cucumber\"\n",
    "index = 50000\n",
    "print(\"the index of\", word, \"in the vocabulary is\", word_to_index[word])\n",
    "print(\"the\", str(index+1) + \"th word in the vocabulary is\", index_to_word[index])"
   ]
  },
  {
   "cell_type": "markdown",
   "metadata": {},
   "source": [
    "<br><br><b>loading the training datsaset</b>"
   ]
  },
  {
   "cell_type": "code",
   "execution_count": 13,
   "metadata": {},
   "outputs": [
    {
     "name": "stdout",
     "output_type": "stream",
     "text": [
      "total datasets in training:  29\n",
      "sample of training set in 9th index:  As a librarian, I've been threatened with stalking for not giving my phone number to a patron. I've also been shown naked, sexually explicit photos; and propositioned by countless men, some of which were married and standing right next to their children. Some of my female colleagues have had male patrons waiting for them in the parking lot after work, and they've received explicit messages over social media. 2\n"
     ]
    }
   ],
   "source": [
    "import csv\n",
    "\n",
    "filename = 'helpline_datasets.csv'\n",
    "X_train_list = []\n",
    "Y_train_list = []\n",
    "with open(filename,'r',encoding=\"utf-8\") as csvfile:\n",
    "    csvreader = csv.reader(csvfile)\n",
    "    for row in csvreader:\n",
    "        X_train_list.append(row[0])\n",
    "        Y_train_list.append(row[1])\n",
    "            \n",
    "X_train = numpy.array(X_train_list) # converting list into 1-D vector representation   \n",
    "Y_train = numpy.array(Y_train_list) # converting list into 1-D vector representation\n",
    "num_training_sets = 0\n",
    "try:\n",
    "    num_training_sets = numpy.prod(X_train.shape)\n",
    "    print(\"total datasets in training: \",num_training_sets)\n",
    "    if num_training_sets != numpy.prod(X_train.shape):\n",
    "        raise ValueError\n",
    "except ValueError:\n",
    "    print(\"dimensions of datasets won't match, verify once!!!!!\")\n",
    "maxLen = len(max(X_train, key=len).split())\n",
    "index = 9\n",
    "print(\"sample of training set in 9th index: \",X_train[index], Y_train[index])"
   ]
  },
  {
   "cell_type": "markdown",
   "metadata": {},
   "source": [
    "<br><br><b>Converting array of sentences into array of indices so to feed embeddings() function</b>"
   ]
  },
  {
   "cell_type": "code",
   "execution_count": 14,
   "metadata": {},
   "outputs": [],
   "source": [
    "def sentences_to_indices(X, word_to_index, max_len):\n",
    "    m = X.shape[0] #number of training examples\n",
    "    X_indices = numpy.zeros((m, max_len))\n",
    "    for i in range(m):\n",
    "        # Convert the ith training sentence in lower case and split is into words. You should get a list of words.\n",
    "        sentence_words = X[i].lower().split()\n",
    "        j = 0\n",
    "        for w in sentence_words:\n",
    "            X_indices[i,j] = word_to_index[w]\n",
    "            j = j+1\n",
    "    return X_indices"
   ]
  },
  {
   "cell_type": "code",
   "execution_count": 15,
   "metadata": {},
   "outputs": [
    {
     "ename": "KeyError",
     "evalue": "\"i'm\"",
     "output_type": "error",
     "traceback": [
      "\u001b[0;31m---------------------------------------------------------------------------\u001b[0m",
      "\u001b[0;31mKeyError\u001b[0m                                  Traceback (most recent call last)",
      "\u001b[0;32m<ipython-input-15-12c775bbaf6c>\u001b[0m in \u001b[0;36m<module>\u001b[0;34m\u001b[0m\n\u001b[1;32m      1\u001b[0m X1 = numpy.array([\"for the past several days I'm suffering from a lot of mental tension due to ongoing audits in office late night\",\n\u001b[1;32m      2\u001b[0m                  \"I got bullied yesterday from a bunch of senior guys during interval\"])\n\u001b[0;32m----> 3\u001b[0;31m \u001b[0mX1_indices\u001b[0m \u001b[0;34m=\u001b[0m \u001b[0msentences_to_indices\u001b[0m\u001b[0;34m(\u001b[0m\u001b[0mX1\u001b[0m\u001b[0;34m,\u001b[0m\u001b[0mword_to_index\u001b[0m\u001b[0;34m,\u001b[0m \u001b[0mmax_len\u001b[0m \u001b[0;34m=\u001b[0m \u001b[0;36m21\u001b[0m\u001b[0;34m)\u001b[0m\u001b[0;34m\u001b[0m\u001b[0;34m\u001b[0m\u001b[0m\n\u001b[0m\u001b[1;32m      4\u001b[0m \u001b[0mprint\u001b[0m\u001b[0;34m(\u001b[0m\u001b[0;34m\"X1=\"\u001b[0m\u001b[0;34m,\u001b[0m\u001b[0mX1\u001b[0m\u001b[0;34m)\u001b[0m\u001b[0;34m\u001b[0m\u001b[0;34m\u001b[0m\u001b[0m\n\u001b[1;32m      5\u001b[0m \u001b[0mprint\u001b[0m\u001b[0;34m(\u001b[0m\u001b[0;34m\"X1_indices=\"\u001b[0m\u001b[0;34m,\u001b[0m\u001b[0mX1_indices\u001b[0m\u001b[0;34m)\u001b[0m\u001b[0;34m\u001b[0m\u001b[0;34m\u001b[0m\u001b[0m\n",
      "\u001b[0;32m<ipython-input-14-d3029d5596e8>\u001b[0m in \u001b[0;36msentences_to_indices\u001b[0;34m(X, word_to_index, max_len)\u001b[0m\n\u001b[1;32m      7\u001b[0m         \u001b[0mj\u001b[0m \u001b[0;34m=\u001b[0m \u001b[0;36m0\u001b[0m\u001b[0;34m\u001b[0m\u001b[0;34m\u001b[0m\u001b[0m\n\u001b[1;32m      8\u001b[0m         \u001b[0;32mfor\u001b[0m \u001b[0mw\u001b[0m \u001b[0;32min\u001b[0m \u001b[0msentence_words\u001b[0m\u001b[0;34m:\u001b[0m\u001b[0;34m\u001b[0m\u001b[0;34m\u001b[0m\u001b[0m\n\u001b[0;32m----> 9\u001b[0;31m             \u001b[0mX_indices\u001b[0m\u001b[0;34m[\u001b[0m\u001b[0mi\u001b[0m\u001b[0;34m,\u001b[0m\u001b[0mj\u001b[0m\u001b[0;34m]\u001b[0m \u001b[0;34m=\u001b[0m \u001b[0mword_to_index\u001b[0m\u001b[0;34m[\u001b[0m\u001b[0mw\u001b[0m\u001b[0;34m]\u001b[0m\u001b[0;34m\u001b[0m\u001b[0;34m\u001b[0m\u001b[0m\n\u001b[0m\u001b[1;32m     10\u001b[0m             \u001b[0mj\u001b[0m \u001b[0;34m=\u001b[0m \u001b[0mj\u001b[0m\u001b[0;34m+\u001b[0m\u001b[0;36m1\u001b[0m\u001b[0;34m\u001b[0m\u001b[0;34m\u001b[0m\u001b[0m\n\u001b[1;32m     11\u001b[0m     \u001b[0;32mreturn\u001b[0m \u001b[0mX_indices\u001b[0m\u001b[0;34m\u001b[0m\u001b[0;34m\u001b[0m\u001b[0m\n",
      "\u001b[0;31mKeyError\u001b[0m: \"i'm\""
     ]
    }
   ],
   "source": [
    "X1 = numpy.array([\"for the past several days I'm suffering from a lot of mental tension due to ongoing audits in office late night\",\n",
    "                 \"I got bullied yesterday from a bunch of senior guys during interval\"])\n",
    "X1_indices = sentences_to_indices(X1,word_to_index, max_len = 21)\n",
    "print(\"X1=\",X1)\n",
    "print(\"X1_indices=\",X1_indices)"
   ]
  },
  {
   "cell_type": "code",
   "execution_count": null,
   "metadata": {},
   "outputs": [],
   "source": []
  },
  {
   "cell_type": "code",
   "execution_count": null,
   "metadata": {},
   "outputs": [],
   "source": []
  }
 ],
 "metadata": {
  "kernelspec": {
   "display_name": "Python 3",
   "language": "python",
   "name": "python3"
  },
  "language_info": {
   "codemirror_mode": {
    "name": "ipython",
    "version": 3
   },
   "file_extension": ".py",
   "mimetype": "text/x-python",
   "name": "python",
   "nbconvert_exporter": "python",
   "pygments_lexer": "ipython3",
   "version": "3.8.3"
  }
 },
 "nbformat": 4,
 "nbformat_minor": 1
}
